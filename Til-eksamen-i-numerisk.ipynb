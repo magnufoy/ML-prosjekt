{
 "cells": [
  {
   "cell_type": "markdown",
   "id": "d92e419c",
   "metadata": {},
   "source": [
    "# Til eksamen - numeriske beregninger"
   ]
  },
  {
   "cell_type": "code",
   "execution_count": 116,
   "id": "69093cd8",
   "metadata": {},
   "outputs": [],
   "source": [
    "import numpy as np\n",
    "import matplotlib.pyplot as plt\n",
    "import pandas as pd\n",
    "import scipy\n",
    "from scipy import optimize\n",
    "import tensorflow as tf"
   ]
  },
  {
   "cell_type": "markdown",
   "id": "604f6b2d",
   "metadata": {},
   "source": [
    "## ODE - IKKE RELEVANT"
   ]
  },
  {
   "cell_type": "markdown",
   "id": "53204026",
   "metadata": {},
   "source": [
    "#### FTBS"
   ]
  },
  {
   "cell_type": "code",
   "execution_count": 56,
   "id": "47e22a3a",
   "metadata": {},
   "outputs": [],
   "source": [
    "#non-linear, conservative\n",
    "def FTBS(u):\n",
    "    \n",
    "    u_new = np.zeros_like(u[1:-1])\n",
    "    \n",
    "    Fj = flux(u[1:-1])\n",
    "    Fj_minus = flux(u[:-2])\n",
    "    u_new[:] = u[1:-1] - (dt/dx)*(Fj - Fj_minus)\n",
    "    \n",
    "    return u_new"
   ]
  },
  {
   "cell_type": "markdown",
   "id": "97edf0f8",
   "metadata": {},
   "source": [
    "#### FTCS"
   ]
  },
  {
   "cell_type": "code",
   "execution_count": 57,
   "id": "172e90d9",
   "metadata": {},
   "outputs": [],
   "source": [
    "def solveNextTimestepFTCS(Uold, D, U_b=1, U_t=0): #siste to e boundary conditions og initial conditions\n",
    "    Unew = np.zeros_like(Uold)                    #D = numerical diffusion number\n",
    "    \n",
    "    Uold_plus = Uold[2:]\n",
    "    Uold_minus = Uold[:-2]\n",
    "    Uold_mid = Uold[1:-1]\n",
    "    \n",
    "    Unew[1:-1] = D*(Uold_plus + Uold_minus) + (1 - 2*D)*Uold_mid\n",
    "    Unew[0] = U_b\n",
    "    Unew[-1] = U_t\n",
    "    \n",
    "    return Unew"
   ]
  },
  {
   "cell_type": "markdown",
   "id": "7d7d40e1",
   "metadata": {},
   "source": [
    "#### MacCormack"
   ]
  },
  {
   "cell_type": "code",
   "execution_count": 58,
   "id": "615adbf0",
   "metadata": {},
   "outputs": [],
   "source": [
    "def macCormack(u):\n",
    "    up = np.zeros_like(u)\n",
    "    up[:-1] = u[:-1] - c*(u[1:]-u[:-1])\n",
    "    u[1:] = .5*(u[1:]+up[1:] -  c*(up[1:]-up[:-1]))\n",
    "    return u[1:-1] \n",
    "\n",
    "\n",
    "# Constants and parameters\n",
    "a = 1.0 # wave speed\n",
    "tmin, tmax = 0.0, 1.0 # start and stop time of simulation\n",
    "xmin, xmax = 0.0, 2.0 # start and end of spatial domain\n",
    "Nx = 80 # number of spatial points\n",
    "c = 0.9 # courant number, need c<=1 for stability"
   ]
  },
  {
   "cell_type": "markdown",
   "id": "670cd75f",
   "metadata": {},
   "source": [
    "## PDE - IKKE RELEVANT"
   ]
  },
  {
   "cell_type": "markdown",
   "id": "8866ccb1",
   "metadata": {},
   "source": [
    "#### A-matrise"
   ]
  },
  {
   "cell_type": "code",
   "execution_count": 59,
   "id": "80c1b3b6",
   "metadata": {},
   "outputs": [
    {
     "name": "stdout",
     "output_type": "stream",
     "text": [
      "[[-4.  1.  0.  2.  0.  0.  0.  0.  0.]\n",
      " [ 1. -4.  1.  0.  2.  0.  0.  0.  0.]\n",
      " [ 0.  2. -4.  0.  0.  2.  0.  0.  0.]\n",
      " [ 1.  0.  0. -4.  1.  0.  1.  0.  0.]\n",
      " [ 0.  1.  0.  1. -4.  1.  0.  1.  0.]\n",
      " [ 0.  0.  1.  0.  2. -4.  0.  0.  1.]\n",
      " [ 0.  0.  0.  1.  0.  0. -4.  1.  0.]\n",
      " [ 0.  0.  0.  0.  1.  0.  1. -4.  1.]\n",
      " [ 0.  0.  0.  0.  0.  1.  0.  2. -4.]]\n"
     ]
    }
   ],
   "source": [
    "#centered finite difference - with ghost nodes\n",
    "def matrix(N):                #matrise N**2 x N**2\n",
    "    d_0 = -4*np.ones(N**2)    #diagonalen; -4\n",
    "    \n",
    "    d_1o = np.ones(N**2-1)    #første over diagonalen; 1\n",
    "    d_1o[N-1::N]=0            #                        hver N-te verdi er 0\n",
    "    \n",
    "    d_No = 2*np.ones(N**2-N)  #N over diagonalen; 2\n",
    "    d_No[N::]=1               #                   fra N+1-te verdi er alle 1\n",
    "    \n",
    "    d_1u = np.ones(N**2-1)    #første under diagonalen; 1\n",
    "    d_1u[N-2::N]=2            #                         hver N-1-te 2\n",
    "    d_1u[N-1::N]=0            #                         hver N-te er 0\n",
    "    \n",
    "    d_Nu = np.ones(N**2-N)    #N under diagonalen; 1\n",
    "    \n",
    "    return scipy.sparse.diags([d_Nu,d_1u,d_0,d_1o,d_No],[-N,-1,0,1,N]).toarray()\n",
    "\n",
    "print(matrix(3))"
   ]
  },
  {
   "cell_type": "markdown",
   "id": "d5d68646",
   "metadata": {},
   "source": [
    "#### b-matrise"
   ]
  },
  {
   "cell_type": "code",
   "execution_count": 60,
   "id": "d8b9fbbb",
   "metadata": {},
   "outputs": [
    {
     "name": "stdout",
     "output_type": "stream",
     "text": [
      "[ -50.    0.    0.  -50.    0.    0. -150. -100. -100.]\n"
     ]
    }
   ],
   "source": [
    "#Defining the 1xN b-matrix in accordance to the boundaries\n",
    "def b_matrix(N):\n",
    "    b = np.zeros(N**2)\n",
    "    b[::N] = -50             #Hver N-te node skal være -50, begynner på første\n",
    "    b[-N:] = -100            #De N siste nodene skal være -100 grader \n",
    "    b[-N] = -150             #N-te siste node skal være -150 grader\n",
    "    return b\n",
    "\n",
    "#matrisen viser hver node fra bunnen til venstre og radvis oppover\n",
    "print(b_matrix(3))"
   ]
  },
  {
   "cell_type": "markdown",
   "id": "188ab37c",
   "metadata": {},
   "source": [
    "## OPT"
   ]
  },
  {
   "cell_type": "markdown",
   "id": "f7293d73",
   "metadata": {},
   "source": [
    "#### Curve fitting"
   ]
  },
  {
   "cell_type": "markdown",
   "id": "dc427137",
   "metadata": {},
   "source": [
    "1. Definer funksjon\n",
    "    - Alle gitte verdier som inputs\n",
    "    \n",
    "2. Definer x-akse og y\n",
    "    - y er da funksjonen med gitte verdier\n",
    "    \n",
    "3. Plot"
   ]
  },
  {
   "cell_type": "code",
   "execution_count": 110,
   "id": "5dcfbac7",
   "metadata": {},
   "outputs": [],
   "source": [
    "popt, pcov = scipy.optimize.curve_fit(f, xdata, ydata, p0, bounds)\n",
    "\n",
    "plt.plot(x, y, label='data set')                     #plott av datasett\n",
    "plt.plot(x, f(x, *popt), label='curve_fit result')   #plott av curve fitting-modellen"
   ]
  },
  {
   "cell_type": "markdown",
   "id": "817aafdc",
   "metadata": {},
   "source": [
    "   - f: model function, funksjonen definert\n",
    "   - xdata: x-aksen\n",
    "   - ydata: avhengig data, y som er definert\n",
    "   - p0: initial guess\n",
    "   - bounds: nedre og øvre grense for parametre\n",
    "    \n",
    "   - popt vil returnere verdiene for de ulike parametrene for curve fittingen"
   ]
  },
  {
   "cell_type": "markdown",
   "id": "d024a546",
   "metadata": {},
   "source": [
    "#### Minimization"
   ]
  },
  {
   "cell_type": "markdown",
   "id": "ba9ce2f8",
   "metadata": {},
   "source": [
    "1. Definer nødvendige funksjoner\n",
    "    - funksjoner gitt\n",
    "    - funksjonen som skal minimeres\n",
    "    - gjerne bare en input x og definer etterpå liste med hver input som x; ['sigma', 'rho', osv] = x\n",
    "      alltid samme rekkefølge på dem så initial guess kan settes som en liste med dem i\n",
    "2. Minimer"
   ]
  },
  {
   "cell_type": "code",
   "execution_count": null,
   "id": "fe446e90",
   "metadata": {},
   "outputs": [],
   "source": [
    "res = scipy.optimize.minimize(fun, x0, args=arguments, method=None, bounds=bounds, constraints=cons, options=options)"
   ]
  },
  {
   "cell_type": "markdown",
   "id": "5f6c73cc",
   "metadata": {},
   "source": [
    "   - fun: funksjonen vi skal minimere\n",
    "        - må returnere en skalar\n",
    "        - dersom funksjonen tar inn flere variabler, sett de felles som input: fun(x, data)\n",
    "             - Definer data som liste med variablene: data = [y, z, m, n]\n",
    "             - Definer arguments som tuppel av listen med variablene: arguments = (data,)\n",
    "   - x0: initial guess\n",
    "        - må være innenfor definert x-felt (i bounds)\n",
    "        - så nære minimum som mulig\n",
    "   - options: gir ekstra parametre\n",
    "        - options = {'disp':True, 'maxiter':1000}\n",
    "            - disp skrur av (False) eller på (True) output av optimization\n",
    "            - maxiter: maximum antall iterasjoner\n",
    "   - bounds: tuppel  med grenser for variablene\n",
    "        - bounds = ( )\n",
    "          bounds.append((min_x1, max_x1))\n",
    "          bounds.append((min_x2, max_x2)) osv.\n",
    "        - Dersom ingen grenser: bounds.append((-np.inf, np.inf))\n",
    "   - constraints: dictionaries som viser til begrensninger\n",
    "        - constraints = []\n",
    "          constraints.append({'type':' ', 'fun': })\n",
    "            - 'type':'ineq' eller 'eq'\n",
    "            - for ineq: \n",
    "                 - F(x) > F0 --> {'type':'ineq', 'fun': lambda x: F(x)-F0}\n",
    "                 - F(x) < F0 --> {'type':'ineq', 'fun': lambda x: F0-F(x)}  \n",
    "   - method: hvilken algoritme som skal benyttes\n",
    "        - tre som ikke krever bounds og constraints:\n",
    "            - 'Nelder-Mead'\n",
    "            - 'BFGS'\n",
    "            - 'CG'\n",
    "        - 'SLSQP' Passer ofte\n",
    "        - 'COBYLA'\n",
    "        - 'trust-constr'"
   ]
  },
  {
   "cell_type": "markdown",
   "id": "5bf42481",
   "metadata": {},
   "source": [
    "3. Hent info\n",
    "    - res.x: optimale resultater/verdier\n",
    "    - res.nit: antall iterasjoner som trengs for å fullføre optimaliseringen\n",
    "    - res.nfev: antall funksjonsevalueringer"
   ]
  },
  {
   "cell_type": "code",
   "execution_count": null,
   "id": "f15b0be6",
   "metadata": {},
   "outputs": [],
   "source": [
    "x0 = []\n",
    "        \n",
    "x0.append([100, 0.1, 1, 50, 0])     #nedre grenser\n",
    "x0.append([200, 0.3, 2, 75, 200])   #midt mellom\n",
    "x0.append([300, 0.5, 3, 100, 400])  #øvre grenser\n",
    "\n",
    "#SETT DEM I SAMME REKKEFØLGE SOM LISTEN E DEFINERT I FUNKSJONAN"
   ]
  },
  {
   "cell_type": "code",
   "execution_count": null,
   "id": "04831c8c",
   "metadata": {},
   "outputs": [],
   "source": [
    "x = []\n",
    "for i in x0: \n",
    "    res = scipy.optimize.minimize(M, x0=i, method='SLSQP', bounds=bounds, constraints=cons, options={'disp': False, 'maxiter':1000})\n",
    "    x.append(res.x)\n",
    "\n",
    "#Får en liste med beste resultatene for hvert sett med verdier\n",
    "#Kan finne optimale verdier med å putte disse x-verdiene inn i funksjonene som skal minimeres"
   ]
  },
  {
   "cell_type": "markdown",
   "id": "474a1634",
   "metadata": {},
   "source": [
    "#### Global optimization"
   ]
  },
  {
   "cell_type": "markdown",
   "id": "7d2203ea",
   "metadata": {},
   "source": [
    "1. Definer nødvendige funksjoner\n",
    "    - gitte funksjoner\n",
    "    - funksjon å minimere\n",
    "2. Optimer ved bruk av basinhopping"
   ]
  },
  {
   "cell_type": "code",
   "execution_count": null,
   "id": "96bea9ce",
   "metadata": {},
   "outputs": [],
   "source": [
    "res = scipy.optimize.basinhopping(fun, x0, niter=100, mininmizer_kwargs=None)"
   ]
  },
  {
   "cell_type": "markdown",
   "id": "69b88e29",
   "metadata": {},
   "source": [
    "   - fun: funksjonen vi vil minimere\n",
    "        - må returnere skalar\n",
    "             - eventuelle ekstra variabelinputs må inn i minimizer_kwargs\n",
    "   - x0: initial guess\n",
    "        - må være innenfor bounds/constraints\n",
    "   - niter: antall iterasjoenr\n",
    "        - standard: 100\n",
    "   - minimizer_kwargs: nøkkelinfo til lokal minimizer\n",
    "        - føres som en dictionary:\n",
    "          minimizer_kwargs = {'method':'SLSQP', 'args':arguments, 'bounds':bounds, 'constraints':cons}\n",
    "             - method: algoritme\n",
    "             - args: ekstra variabelinputs til funksjon\n",
    "             - bounds og constraints: grenser og betingelser"
   ]
  },
  {
   "cell_type": "markdown",
   "id": "29fbc542",
   "metadata": {},
   "source": [
    "3. Hent info\n",
    "    - res.x: optimale resultater/verdier\n",
    "    - res.nit: antall iterasjoner som trengs for å fullføre optimaliseringen\n",
    "    - res.nfev: antall funksjonsevalueringer"
   ]
  },
  {
   "cell_type": "markdown",
   "id": "97d72e31",
   "metadata": {},
   "source": [
    "#### Differential evolution"
   ]
  },
  {
   "cell_type": "markdown",
   "id": "248e175f",
   "metadata": {},
   "source": [
    "- stokastisk; krever ikke initial guess"
   ]
  },
  {
   "cell_type": "code",
   "execution_count": null,
   "id": "1034e1ed",
   "metadata": {},
   "outputs": [],
   "source": [
    "res = scipy.optimize.differential_evolution(fun, bounds=bounds, args=arguments, workers=1, constraints=cons)"
   ]
  },
  {
   "cell_type": "markdown",
   "id": "cf176937",
   "metadata": {},
   "source": [
    "   - fun: funksjonen vi vil minimere\n",
    "   - bounds: grenser for variabler/parametre\n",
    "   - args: ekstra variabler til funksjonen\n",
    "   - constraints: begrensninger for funksjon\n",
    "   - workers: antall CPU-er for parallell prosessering"
   ]
  },
  {
   "cell_type": "markdown",
   "id": "dd27fae9",
   "metadata": {},
   "source": [
    "Hent info\n",
    "   - res.x: optimale resultater/verdier\n",
    "   - res.nit: antall iterasjoner som trengs for å fullføre optimaliseringen\n",
    "   - res.nfev: antall funksjonsevalueringer"
   ]
  },
  {
   "cell_type": "markdown",
   "id": "8c28febd",
   "metadata": {},
   "source": [
    "## ML"
   ]
  },
  {
   "cell_type": "markdown",
   "id": "4624f61a",
   "metadata": {},
   "source": [
    "HENTE DATA"
   ]
  },
  {
   "cell_type": "code",
   "execution_count": 61,
   "id": "f9f91b50",
   "metadata": {},
   "outputs": [],
   "source": [
    "data = np.loadtxt('Data_Example_1_small.txt')   #txt-fil\n",
    "data2 = pd.read_csv('training(1).csv')          #excel-fil\n",
    "\n",
    "#Dersom tall splittes med komma:\n",
    "data3 = np.loadtxt('Data_Example_5.txt',delimiter=',')"
   ]
  },
  {
   "cell_type": "markdown",
   "id": "615bbfa8",
   "metadata": {},
   "source": [
    "HENTE INPUT OGOUTPUT FRA DATA"
   ]
  },
  {
   "cell_type": "code",
   "execution_count": 88,
   "id": "cd2628a9",
   "metadata": {},
   "outputs": [],
   "source": [
    "input_data, output_data  = data[:,0:3], data[:,-1]\n",
    "#input e her tre første kolonner, og output siste kolonne\n",
    "\n",
    "#data[RADx:RADy, KOLONNEx:KOLONNEy]   hent ut fra kolonne/rad x til y"
   ]
  },
  {
   "cell_type": "markdown",
   "id": "21073180",
   "metadata": {},
   "source": [
    "LAGE FIGUR AV DATA\n",
    "   - fra example 1, har dem input som x og output som y. En for hver kolonne"
   ]
  },
  {
   "cell_type": "code",
   "execution_count": 89,
   "id": "2ea263b4",
   "metadata": {},
   "outputs": [
    {
     "name": "stderr",
     "output_type": "stream",
     "text": [
      "No handles with labels found to put in legend.\n",
      "No handles with labels found to put in legend.\n"
     ]
    },
    {
     "data": {
      "image/png": "[encoded data removed]",
      "text/plain": [
       "<Figure size 1080x360 with 2 Axes>"
      ]
     },
     "metadata": {
      "needs_background": "light"
     },
     "output_type": "display_data"
    }
   ],
   "source": [
    "x=np.linspace(0,10,11)\n",
    "y=np.linspace(0,5,11)\n",
    "#Flere figurer\n",
    "plt.rcParams[\"figure.figsize\"] = (15, 5)     #Størrelse figurer\n",
    "\n",
    "fig, (ax1, ax2) = plt.subplots(1,2)          #antall subplots og oppsett. (#rader,#kolonner)\n",
    "fig.suptitle('Vertically stacked subplots')  #Felles tittel\n",
    "\n",
    "ax1.scatter(x, y)                            #Hva som skal plottes i hver, scatter gir punkter istedenfor plot som gir linjer\n",
    "ax1.set_xlabel('x1')                         #tittel på hver akse\n",
    "ax1.set_ylabel('y')\n",
    "ax1.legend()\n",
    "ax1.grid()\n",
    "\n",
    "ax2.scatter(x, -y)\n",
    "ax2.set_xlabel('x1')\n",
    "ax2.set_ylabel('y')\n",
    "ax2.legend()\n",
    "ax2.grid()"
   ]
  },
  {
   "cell_type": "markdown",
   "id": "a253251b",
   "metadata": {},
   "source": [
    "LAGE ARTIFICIAL NEURAL NETWORK - ANN"
   ]
  },
  {
   "cell_type": "code",
   "execution_count": 95,
   "id": "93ec5dee",
   "metadata": {},
   "outputs": [],
   "source": [
    "#ulike metoder:\n",
    "#1\n",
    "inputs = tf.keras.Input(shape=(3,))                        #antall inputs for ANN\n",
    "x = tf.keras.layers.Dense(1000, activation='relu')(inputs) #This add a layer of here 1000 neurons with the relu activation function\n",
    "outputs = tf.keras.layers.Dense(1, activation='linear')(x) #The output layer with one ouput and the linear activation function\n",
    "model = tf.keras.Model(inputs=inputs, outputs=outputs)     #We setup the inputs and outputs of the ANN\n",
    "\n",
    "#2\n",
    "model = tf.keras.models.Sequential()                                         # We define here a sequential ANN\n",
    "model.add(tf.keras.layers.Dense(units=1000, activation='relu', input_dim=3)) # We define the input layer and neurons\n",
    "model.add(tf.keras.layers.Dense(units=1000, activation='linear'))            # add ghost layer with given number of neurons\n",
    "model.add(tf.keras.layers.Dense(units=1, activation='linear'))               # We define the output layer and neurons \n",
    "#                                                                              as number of outputs\n",
    "\n",
    "#kompilerer\n",
    "model.compile(loss='mse', optimizer='adam')                #We compile the ANN model specifying the loss metric and optimizer"
   ]
  },
  {
   "cell_type": "markdown",
   "id": "4789d2d0",
   "metadata": {},
   "source": [
    "TRENE/DEFINERE ANN"
   ]
  },
  {
   "cell_type": "code",
   "execution_count": 96,
   "id": "63719815",
   "metadata": {},
   "outputs": [
    {
     "name": "stdout",
     "output_type": "stream",
     "text": [
      "Minimum error : 3.717324489116436e-06, Maximum error: 0.006987313274294138\n"
     ]
    }
   ],
   "source": [
    "#sett antall epochs\n",
    "epochs = 10\n",
    "\n",
    "history = model.fit(input_data, output_data, epochs=epochs,verbose=0)\n",
    "\n",
    "#Kan printe minimum og maksimum error som er gjort under treningen\n",
    "print('Minimum error : {}, Maximum error: {}'.format(np.min(history.history['loss']),np.max(history.history['loss'])))"
   ]
  },
  {
   "cell_type": "code",
   "execution_count": 97,
   "id": "e54090a2",
   "metadata": {},
   "outputs": [
    {
     "name": "stdout",
     "output_type": "stream",
     "text": [
      "Number of weights =  (3, 1000)\n",
      "Number of bias =  (1000,)\n",
      "Number of weights =  (1000, 1)\n",
      "Number of bias =  (1,)\n"
     ]
    }
   ],
   "source": [
    "#Kan printe antallet av ulike parametre\n",
    "for layer in model.layers:\n",
    "    nrow = np.shape(layer.get_weights())[0]\n",
    "    if nrow != 0: \n",
    "        print('Number of weights = ',np.shape(layer.get_weights()[0]))\n",
    "        print('Number of bias = ',np.shape(layer.get_weights()[1]))"
   ]
  },
  {
   "cell_type": "markdown",
   "id": "d8d887b5",
   "metadata": {},
   "source": [
    "BRUKE ANN TIL PREDICTION"
   ]
  },
  {
   "cell_type": "code",
   "execution_count": 98,
   "id": "0ec6d935",
   "metadata": {},
   "outputs": [],
   "source": [
    "prediction = model.predict(input_data)"
   ]
  },
  {
   "cell_type": "markdown",
   "id": "0068abdf",
   "metadata": {},
   "source": [
    "PLOTTE ANN"
   ]
  },
  {
   "cell_type": "code",
   "execution_count": 99,
   "id": "17029285",
   "metadata": {},
   "outputs": [
    {
     "data": {
      "image/png": "[encoded data removed]",
      "text/plain": [
       "<Figure size 1080x504 with 2 Axes>"
      ]
     },
     "metadata": {
      "needs_background": "light"
     },
     "output_type": "display_data"
    }
   ],
   "source": [
    "plt.rcParams[\"figure.figsize\"] = (15, 7)                   #Størrelse\n",
    "\n",
    "#Plotte error for training\n",
    "fig,(ax1,ax2) = plt.subplots(1,2)                          #antall og oppsett\n",
    "ax1.semilogy(history.history['loss'],'k',label='training') #Semilog y-aksen; lager logaritmisk skala for aksen, får se\n",
    "ax1.set_xlabel('Epoch')                                    #                 der det faktisk er forandringer\n",
    "ax1.set_ylabel('Error')\n",
    "ax1.legend()\n",
    "ax1.grid()\n",
    "\n",
    "# Plot output vs. predictions from ANN \n",
    "ax2.scatter(output_data,prediction,c='k',label='Predictions')\n",
    "ax2.plot([np.min(output_data),np.max(output_data)],[np.min(prediction),np.max(prediction)],'r',label='Reference')\n",
    "ax2.set_xlabel('Measured')\n",
    "ax2.set_ylabel('Predicted')\n",
    "ax2.legend()\n",
    "ax2.grid()\n",
    "\n",
    "fig.tight_layout()   #Gjør at den passer"
   ]
  },
  {
   "cell_type": "markdown",
   "id": "77e1fdd1",
   "metadata": {},
   "source": [
    "LAGRE DATA I ANN"
   ]
  },
  {
   "cell_type": "code",
   "execution_count": 100,
   "id": "d59f1d29",
   "metadata": {},
   "outputs": [
    {
     "name": "stdout",
     "output_type": "stream",
     "text": [
      "INFO:tensorflow:Assets written to: model_small.pb\\assets\n"
     ]
    }
   ],
   "source": [
    "#hvis man skal bruke den i anna notebook\n",
    "model.save('model_small.pb')"
   ]
  },
  {
   "cell_type": "markdown",
   "id": "8bbed98b",
   "metadata": {},
   "source": [
    "HENTE INN ANN FRA ANNEN NOTEBOOK"
   ]
  },
  {
   "cell_type": "code",
   "execution_count": 102,
   "id": "b1bd288a",
   "metadata": {},
   "outputs": [],
   "source": [
    "model = tf.keras.models.load_model('model_small.pb')  #Navnet man har lagret den andre dataen som"
   ]
  },
  {
   "cell_type": "markdown",
   "id": "22df4b10",
   "metadata": {},
   "source": [
    "#### PLOTTING HVIS MAN HAR FLERE ULIKE DATASETT"
   ]
  },
  {
   "cell_type": "code",
   "execution_count": 101,
   "id": "582311a7",
   "metadata": {
    "scrolled": false
   },
   "outputs": [
    {
     "data": {
      "image/png": "[encoded data removed]",
      "text/plain": [
       "<Figure size 1080x504 with 3 Axes>"
      ]
     },
     "metadata": {
      "needs_background": "light"
     },
     "output_type": "display_data"
    }
   ],
   "source": [
    "data_small = np.loadtxt('data_small.txt')\n",
    "data_medium = np.loadtxt('data_medium.txt')\n",
    "data_large = np.loadtxt('data_large.txt')\n",
    "\n",
    "datasets = [data_small, data_medium, data_large]     #tre ulike dataseett\n",
    "\n",
    "fig,axs = plt.subplots(1,len(datasets))              #én rad med antall tabella som vi har antall datasett\n",
    "\n",
    "plt.rcParams[\"figure.figsize\"] = (10, 5) \n",
    "\n",
    "for i,data in enumerate(datasets):                    \n",
    "    input_data,output_data  = data[:,0:3], data[:,3]\n",
    "    # Predict output using the ANN\n",
    "    prediction = model.predict(input_data)\n",
    "    # Plot the predictions\n",
    "    axs[i].scatter(output_data,prediction,label='ANN prediction')\n",
    "    # Plot the measurements\n",
    "    axs[i].plot([np.min(output_data),np.max(output_data)],[np.min(prediction),np.max(prediction)],'r',label='Exact solution')\n",
    "    # \n",
    "    axs[i].set_xlabel('Measured')\n",
    "    axs[i].set_ylabel('Predicted')\n",
    "    axs[i].legend()\n",
    "    axs[i].grid()\n",
    "    \n",
    "fig.tight_layout()"
   ]
  },
  {
   "cell_type": "markdown",
   "id": "e63b32d7",
   "metadata": {},
   "source": [
    "#### FORBEDRE EN ANN"
   ]
  },
  {
   "cell_type": "code",
   "execution_count": 103,
   "id": "4b660b13",
   "metadata": {},
   "outputs": [],
   "source": [
    "#1: Øk antall epochs\n",
    "\n",
    "#2: normaliser og prøv med nye verdier\n",
    "output_data_new = (output_data - np.min(output_data)) / (np.max(output_data) - np.min(output_data))"
   ]
  },
  {
   "cell_type": "markdown",
   "id": "50a1122b",
   "metadata": {},
   "source": [
    "### Skalering med sklearn"
   ]
  },
  {
   "cell_type": "code",
   "execution_count": 104,
   "id": "5021e730",
   "metadata": {},
   "outputs": [],
   "source": [
    "import sklearn\n",
    "from sklearn import preprocessing\n",
    "from sklearn.model_selection import train_test_split"
   ]
  },
  {
   "cell_type": "markdown",
   "id": "07d9fb1b",
   "metadata": {},
   "source": [
    "MAX/MIN-SKALER"
   ]
  },
  {
   "cell_type": "code",
   "execution_count": 106,
   "id": "3cc816b5",
   "metadata": {},
   "outputs": [],
   "source": [
    "#Min/Max scaler:\n",
    "scaler = preprocessing.MinMaxScaler().fit(data)\n",
    "scaled_data = scaler.transform(data)\n",
    "#Splitter deretter scaled_data inn i input- og output-kolonner som vanlig"
   ]
  },
  {
   "cell_type": "markdown",
   "id": "52bf9cc1",
   "metadata": {},
   "source": [
    "STANDARD SKALERING"
   ]
  },
  {
   "cell_type": "code",
   "execution_count": null,
   "id": "493c4ce4",
   "metadata": {},
   "outputs": [],
   "source": [
    "scaler_x = preprocessing.StandardScaler().fit(input_data)\n",
    "x_scaled = scaler_x.transform(input_data)\n",
    "\n",
    "scaler_y = preprocessing.StandardScaler().fit(output_data)\n",
    "y_scaled = scaler_y.transform(output_data)\n",
    "\n",
    "#Her er det da delt inn på forhånd, men trur max/min e bedre siden det e brukt i eksempel"
   ]
  },
  {
   "cell_type": "markdown",
   "id": "76ad5a49",
   "metadata": {},
   "source": [
    "#### Splitte inn i training og testing"
   ]
  },
  {
   "cell_type": "code",
   "execution_count": 108,
   "id": "57a84de5",
   "metadata": {},
   "outputs": [],
   "source": [
    "#Definer training og validation\n",
    "x_train, x_val, y_train, y_val = train_test_split(x_scaled, y_scaled,test_size = 0.2, train_size = 0.8, random_state = 1)\n",
    "\n",
    "#Test_size og train_size vider til en 80/20-splitt\n",
    "\n",
    "#For historyen til ANN må det legges til for validation:\n",
    "history = model.fit(x_scaled, y_scaled, epochs=epochs, validation_data=(x_val,y_val), verbose=0)"
   ]
  }
 ],
 "metadata": {
  "kernelspec": {
   "display_name": "Python 3 (ipykernel)",
   "language": "python",
   "name": "python3"
  },
  "language_info": {
   "codemirror_mode": {
    "name": "ipython",
    "version": 3
   },
   "file_extension": ".py",
   "mimetype": "text/x-python",
   "name": "python",
   "nbconvert_exporter": "python",
   "pygments_lexer": "ipython3",
   "version": "3.9.7"
  }
 },
 "nbformat": 4,
 "nbformat_minor": 5
}
